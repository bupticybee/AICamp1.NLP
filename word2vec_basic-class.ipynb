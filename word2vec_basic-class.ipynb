{
 "cells": [
  {
   "cell_type": "markdown",
   "metadata": {},
   "source": [
    "# DATA DOWNLOAD\n",
    "To start this project, you need an addition data file.\n",
    "\n",
    "First you should download data from:\n",
    "https://pan.baidu.com/s/1KFui9zZKjRqzFkCJH5nenw\n",
    "    \n",
    "Then unzip it,create a data dir, and put it in data directory\n",
    "\n",
    "## After you do all that , the following file should be found:\n",
    "\n",
    "```python\n",
    "'data/segmented_train_seg_by_word.txt' \n",
    "```\n",
    "\n",
    "And that means you are good to go."
   ]
  },
  {
   "cell_type": "code",
   "execution_count": 31,
   "metadata": {},
   "outputs": [
    {
     "name": "stdout",
     "output_type": "stream",
     "text": [
      "20000000 data/segmented_train_seg_by_word.txt\n"
     ]
    }
   ],
   "source": [
    "! wc -l data/segmented_train_seg_by_word.txt"
   ]
  },
  {
   "cell_type": "markdown",
   "metadata": {},
   "source": [
    "# DATA PROCESS"
   ]
  },
  {
   "cell_type": "code",
   "execution_count": 2,
   "metadata": {
    "collapsed": true
   },
   "outputs": [],
   "source": [
    "from utils import ProgressBar\n",
    "import numpy as np\n",
    "import collections\n",
    "from matplotlib import pyplot as plt\n",
    "%matplotlib inline"
   ]
  },
  {
   "cell_type": "code",
   "execution_count": 4,
   "metadata": {},
   "outputs": [
    {
     "name": "stdout",
     "output_type": "stream",
     "text": [
      " 100.00 % [==================================================>] 10000000/10000000 \t used:108s eta:0 s"
     ]
    }
   ],
   "source": [
    "enline = None\n",
    "chline = None\n",
    "\n",
    "sentlength = np.inf\n",
    "\n",
    "enlines = []\n",
    "chlines = []\n",
    "pb = ProgressBar(worksum=10000000)\n",
    "pb.startjob()\n",
    "num = 0\n",
    "with open('data/segmented_train_seg_by_word.txt',encoding=\"utf-8\") as fhdl:\n",
    "    for line in fhdl:\n",
    "        num += 1\n",
    "        if num % 2 == 1:\n",
    "            enline = line\n",
    "            continue\n",
    "        else:\n",
    "            chline = line\n",
    "        \n",
    "        enlinesp = [i.lower() for i in enline.strip(\"\\n\").split()]\n",
    "        chlinesp = [i for i in chline.strip(\"\\n\").split()]\n",
    "        if len(enlinesp) <= sentlength and len(chlinesp) <= sentlength:\n",
    "            enlines.append(enlinesp)\n",
    "            chlines.append(chlinesp)\n",
    "        if (num // 2) % 1000 == 0:\n",
    "            pb.complete(1000)\n",
    "            \n",
    "        #if num // 2 >= 1000000:\n",
    "        #    break\n",
    "        "
   ]
  },
  {
   "cell_type": "code",
   "execution_count": 5,
   "metadata": {
    "collapsed": true
   },
   "outputs": [
    {
     "data": {
      "text/plain": [
       "[['a',\n",
       "  'pair',\n",
       "  'of',\n",
       "  'red',\n",
       "  '-',\n",
       "  'crowned',\n",
       "  'cranes',\n",
       "  'have',\n",
       "  'staked',\n",
       "  'out',\n",
       "  'their',\n",
       "  'nesting',\n",
       "  'territory'],\n",
       " ['a',\n",
       "  'pair',\n",
       "  'of',\n",
       "  'crows',\n",
       "  'had',\n",
       "  'come',\n",
       "  'to',\n",
       "  'nest',\n",
       "  'on',\n",
       "  'our',\n",
       "  'roof',\n",
       "  'as',\n",
       "  'if',\n",
       "  'they',\n",
       "  'had',\n",
       "  'come',\n",
       "  'for',\n",
       "  'lhamo',\n",
       "  '.'],\n",
       " ['a',\n",
       "  'couple',\n",
       "  'of',\n",
       "  'boys',\n",
       "  'driving',\n",
       "  'around',\n",
       "  'in',\n",
       "  'daddy',\n",
       "  \"'\",\n",
       "  's',\n",
       "  'car',\n",
       "  '.'],\n",
       " ['a',\n",
       "  'pair',\n",
       "  'of',\n",
       "  'nines',\n",
       "  '?',\n",
       "  'you',\n",
       "  'pushed',\n",
       "  'in',\n",
       "  'with',\n",
       "  'a',\n",
       "  'pair',\n",
       "  'of',\n",
       "  'nines',\n",
       "  '?'],\n",
       " ['fighting', 'two', 'against', 'one', 'is', 'never', 'ideal', ','],\n",
       " ['it',\n",
       "  \"'\",\n",
       "  's',\n",
       "  'a',\n",
       "  'neat',\n",
       "  'one',\n",
       "  '-',\n",
       "  'two',\n",
       "  '.',\n",
       "  'walker',\n",
       "  'to',\n",
       "  'burton',\n",
       "  '.'],\n",
       " ['deuces', 'the', 'winner', '.'],\n",
       " ['five',\n",
       "  'on',\n",
       "  'one',\n",
       "  '.',\n",
       "  'five',\n",
       "  'on',\n",
       "  'one',\n",
       "  '.',\n",
       "  'yeah',\n",
       "  ',',\n",
       "  'not',\n",
       "  'the',\n",
       "  'greatest',\n",
       "  'odds',\n",
       "  '.'],\n",
       " ['an', 'incredibly', 'emotional', 'fight', 'between', '2', 'sisters', '？'],\n",
       " ['one', 'against', '500', '.']]"
      ]
     },
     "execution_count": 5,
     "metadata": {},
     "output_type": "execute_result"
    }
   ],
   "source": [
    "enlines[:10]"
   ]
  },
  {
   "cell_type": "code",
   "execution_count": 6,
   "metadata": {
    "collapsed": true
   },
   "outputs": [
    {
     "data": {
      "text/plain": [
       "[['一对', '丹顶鹤', '正', '监视', '着', '它们', '的', '筑巢', '领地'],\n",
       " ['一对',\n",
       "  '乌鸦',\n",
       "  '飞',\n",
       "  '到',\n",
       "  '我们',\n",
       "  '屋顶',\n",
       "  '上',\n",
       "  '的',\n",
       "  '巢里',\n",
       "  '，',\n",
       "  '它们',\n",
       "  '好像',\n",
       "  '专门',\n",
       "  '为拉木',\n",
       "  '而',\n",
       "  '来',\n",
       "  '的',\n",
       "  '。'],\n",
       " ['一对', '乖乖仔', '开着', '老爸', '的', '车子', '。'],\n",
       " ['一对', '九', '？', '一对', '九', '你', '就', '全', '下注', '了', '？'],\n",
       " ['一对二', '总', '不是', '好事', '，'],\n",
       " ['一对二', '，', '沃克', '传给', '波顿', '。'],\n",
       " ['一对二', '胜', '。'],\n",
       " ['一对', '五', '。', '一对', '五', '。', '胜算', '不大', '啊', '。'],\n",
       " ['一对', '五年', '没见', '过', '的', '姐妹', '一场', '激烈', '的', '争吵', '？'],\n",
       " ['一对', '五百', '诶', '。']]"
      ]
     },
     "execution_count": 6,
     "metadata": {},
     "output_type": "execute_result"
    }
   ],
   "source": [
    "chlines[:10]"
   ]
  },
  {
   "cell_type": "code",
   "execution_count": 7,
   "metadata": {},
   "outputs": [
    {
     "data": {
      "text/plain": [
       "(10000000, 10000000)"
      ]
     },
     "execution_count": 7,
     "metadata": {},
     "output_type": "execute_result"
    }
   ],
   "source": [
    "len(chlines),len(enlines)"
   ]
  },
  {
   "cell_type": "code",
   "execution_count": 8,
   "metadata": {
    "collapsed": true
   },
   "outputs": [],
   "source": [
    "chwords = []\n",
    "\n",
    "for sent in chlines:\n",
    "    for chword in sent:\n",
    "        chwords.append(chword)"
   ]
  },
  {
   "cell_type": "code",
   "execution_count": 9,
   "metadata": {
    "collapsed": true
   },
   "outputs": [],
   "source": [
    "from collections import Counter"
   ]
  },
  {
   "cell_type": "code",
   "execution_count": 10,
   "metadata": {},
   "outputs": [
    {
     "data": {
      "text/plain": [
       "[('。', 7829572),\n",
       " ('的', 5689326),\n",
       " ('，', 5226407),\n",
       " ('我', 3454986),\n",
       " ('你', 2687663),\n",
       " ('了', 2071109),\n",
       " ('？', 1571009),\n",
       " ('是', 1485247),\n",
       " ('在', 1418398),\n",
       " ('他', 1118269),\n",
       " ('我们', 899295),\n",
       " ('和', 644347),\n",
       " ('她', 633832),\n",
       " ('不', 627412),\n",
       " ('就', 545092)]"
      ]
     },
     "execution_count": 10,
     "metadata": {},
     "output_type": "execute_result"
    }
   ],
   "source": [
    "Counter(chwords).most_common(15)"
   ]
  },
  {
   "cell_type": "code",
   "execution_count": 11,
   "metadata": {
    "collapsed": true
   },
   "outputs": [],
   "source": [
    "def addchar(what2ind,ind2what,char):\n",
    "    if char in what2ind:\n",
    "        return \n",
    "    ind2what[len(what2ind)] = char\n",
    "    what2ind[char] = len(what2ind)"
   ]
  },
  {
   "cell_type": "code",
   "execution_count": 54,
   "metadata": {
    "collapsed": true
   },
   "outputs": [],
   "source": [
    "ch2ind = {}\n",
    "ind2ch = {}\n",
    "\n",
    "specialchars = ['<pad>','<unk>']\n",
    "\n",
    "for one in specialchars:\n",
    "    addchar(ch2ind,ind2ch,one)"
   ]
  },
  {
   "cell_type": "code",
   "execution_count": 55,
   "metadata": {
    "collapsed": true
   },
   "outputs": [],
   "source": [
    "for word,_ in Counter(chwords).most_common(10000):\n",
    "    addchar(ch2ind,ind2ch,word)"
   ]
  },
  {
   "cell_type": "code",
   "execution_count": 15,
   "metadata": {
    "collapsed": true
   },
   "outputs": [],
   "source": [
    "dat_x_in = []\n",
    "\n",
    "for chsent in chlines:\n",
    "    indsent = [ch2ind.get(i,ch2ind['<unk>']) for i in chsent]\n",
    "    #indsent.append(ch2ind['<eos>'])\n",
    "    dat_x_in += indsent\n"
   ]
  },
  {
   "cell_type": "code",
   "execution_count": 16,
   "metadata": {},
   "outputs": [
    {
     "name": "stdout",
     "output_type": "stream",
     "text": [
      "一对<unk>正监视着它们的<unk>领地一对<unk>飞到我们屋顶上的<unk>，它们\n"
     ]
    }
   ],
   "source": [
    "print(''.join([ind2ch[i] for i in dat_x_in[:20]]))"
   ]
  },
  {
   "cell_type": "code",
   "execution_count": 17,
   "metadata": {},
   "outputs": [
    {
     "data": {
      "text/plain": [
       "109497518"
      ]
     },
     "execution_count": 17,
     "metadata": {},
     "output_type": "execute_result"
    }
   ],
   "source": [
    "len(dat_x_in)"
   ]
  },
  {
   "cell_type": "code",
   "execution_count": 18,
   "metadata": {
    "collapsed": true
   },
   "outputs": [],
   "source": [
    "def data_generator(batch_size,cbow):\n",
    "    'cbow<--|word|-->cbow'\n",
    "    window = 2 * cbow + 1\n",
    "    batch_data = []\n",
    "    \n",
    "    while True:\n",
    "        for i in range(len(dat_x_in) - window):\n",
    "            batch_data.append(dat_x_in[i:i + window])\n",
    "            if len(batch_data) >= batch_size:\n",
    "                batch_data = np.asarray(batch_data)\n",
    "                batch_x = np.concatenate([batch_data[:,:cbow],batch_data[:,-cbow:]],axis=1)\n",
    "                batch_y = batch_data[:,cbow]\n",
    "                yield batch_x,batch_y\n",
    "                batch_data = []"
   ]
  },
  {
   "cell_type": "code",
   "execution_count": 19,
   "metadata": {
    "collapsed": true
   },
   "outputs": [],
   "source": [
    "gen = data_generator(128,1)"
   ]
  },
  {
   "cell_type": "code",
   "execution_count": 20,
   "metadata": {
    "collapsed": true
   },
   "outputs": [],
   "source": [
    "batch_x,batch_y = gen.__next__()"
   ]
  },
  {
   "cell_type": "code",
   "execution_count": 21,
   "metadata": {},
   "outputs": [
    {
     "data": {
      "text/plain": [
       "((128, 2), (128,))"
      ]
     },
     "execution_count": 21,
     "metadata": {},
     "output_type": "execute_result"
    }
   ],
   "source": [
    "batch_x.shape ,batch_y.shape"
   ]
  },
  {
   "cell_type": "markdown",
   "metadata": {},
   "source": [
    "# MODEL PART"
   ]
  },
  {
   "cell_type": "code",
   "execution_count": 22,
   "metadata": {
    "collapsed": true
   },
   "outputs": [],
   "source": [
    "batch_size = 256\n",
    "embedding_size = 100\n",
    "vocabulary_size = len(ind2ch)\n",
    "cbow = 1\n",
    "negative_sample_number = 64"
   ]
  },
  {
   "cell_type": "code",
   "execution_count": 23,
   "metadata": {},
   "outputs": [],
   "source": [
    "import tensorflow as tf\n",
    "import tflearn\n",
    "tf.reset_default_graph()\n",
    "config = tf.ConfigProto(log_device_placement=True,allow_soft_placement = True)\n",
    "config.gpu_options.allow_growth = True\n",
    "#config.gpu_options.per_process_gpu_memory_fraction = 0.4\n",
    "session = tf.Session(config=config)\n"
   ]
  },
  {
   "cell_type": "code",
   "execution_count": 25,
   "metadata": {
    "collapsed": true
   },
   "outputs": [],
   "source": [
    "\n",
    "tf.reset_default_graph()\n",
    "config = tf.ConfigProto(log_device_placement=True,allow_soft_placement = True)\n",
    "config.gpu_options.allow_growth = True\n",
    "session = tf.Session(config=config)\n",
    "\n",
    "\n",
    "with tf.device('/gpu:1'):\n",
    "    x = tf.placeholder(tf.int32, shape=[None,2 * cbow])\n",
    "    y = tf.placeholder(tf.int32, shape=[None])\n",
    "    target = tf.expand_dims(y,1)\n",
    "    learning_rate = tf.placeholder(tf.float32)\n",
    "\n",
    "    embeddings = tf.Variable(tf.random_uniform([vocabulary_size, embedding_size], -0.08, 0.08))\n",
    "    \n",
    "    sample_x =  tf.placeholder(tf.int32, shape=[None])\n",
    "    sample_embedding = tf.nn.embedding_lookup(embeddings, sample_x)\n",
    "    \n",
    "    nce_weights = tf.Variable(tf.truncated_normal([vocabulary_size, embedding_size],\n",
    "                     stddev=1.0 / np.sqrt(embedding_size)))\n",
    "    nce_biases = tf.Variable(tf.zeros([vocabulary_size]))\n",
    "    \n",
    "    one_embedding = None\n",
    "    for i in range(2 * cbow):\n",
    "        if one_embedding is None:\n",
    "            one_embedding = tf.nn.embedding_lookup(embeddings, x[:,i])\n",
    "        else:\n",
    "            one_embedding += tf.nn.embedding_lookup(embeddings, x[:,i])\n",
    "    avg_embedding = one_embedding / (2 * cbow)\n",
    "    \n",
    "    nce_loss = tf.reduce_mean(tf.nn.nce_loss(nce_weights, nce_biases,\n",
    "                               labels=target,\n",
    "                               inputs=avg_embedding,\n",
    "                               num_sampled=negative_sample_number,\n",
    "                               num_classes=len(ind2ch)))\n",
    "    \n",
    "    optimizer = tf.train.AdagradOptimizer(learning_rate).minimize(nce_loss)"
   ]
  },
  {
   "cell_type": "markdown",
   "metadata": {},
   "source": [
    "saver = tf.train.Saver()\n",
    "saver.restore(session,'./models/word2vec_model')"
   ]
  },
  {
   "cell_type": "code",
   "execution_count": 27,
   "metadata": {
    "collapsed": true
   },
   "outputs": [],
   "source": [
    "session.run(tf.global_variables_initializer())"
   ]
  },
  {
   "cell_type": "code",
   "execution_count": 28,
   "metadata": {},
   "outputs": [
    {
     "data": {
      "text/plain": [
       "(128, 100)"
      ]
     },
     "execution_count": 28,
     "metadata": {},
     "output_type": "execute_result"
    }
   ],
   "source": [
    "session.run(sample_embedding,feed_dict={\n",
    "    sample_x:batch_y\n",
    "}).shape"
   ]
  },
  {
   "cell_type": "code",
   "execution_count": 29,
   "metadata": {},
   "outputs": [
    {
     "data": {
      "text/plain": [
       "1"
      ]
     },
     "execution_count": 29,
     "metadata": {},
     "output_type": "execute_result"
    }
   ],
   "source": [
    "cbow"
   ]
  },
  {
   "cell_type": "code",
   "execution_count": 30,
   "metadata": {},
   "outputs": [
    {
     "name": "stdout",
     "output_type": "stream",
     "text": [
      "EPOCH 1 batch 427723 lr 0.1 loss 3.8539910316467285 100.00 % [=================================================>-] 109497344/109497518 \t used:1415s eta:0 s\n",
      "EPOCH 2 batch 427723 lr 0.1 loss 3.790839195251465 100.00 % [=================================================>-] 109497344/109497518 \t used:1412s eta:0 s\n",
      "EPOCH 3 batch 427723 lr 0.1 loss 4.175330638885498 100.00 % [=================================================>-] 109497344/109497518 \t used:1416s eta:0 s\n",
      "EPOCH 4 batch 427723 lr 0.1 loss 3.8939666748046875 100.00 % [=================================================>-] 109497344/109497518 \t used:1429s eta:0 s\n"
     ]
    }
   ],
   "source": [
    "losses = []\n",
    "beginning_lr = 0.1\n",
    "gen = data_generator(batch_size,cbow)\n",
    "for one_epoch in range(1,5):\n",
    "    pb = ProgressBar(worksum=len(dat_x_in))\n",
    "    pb.startjob()\n",
    "    for one_batch in range(len(dat_x_in) // batch_size):\n",
    "        batch_x,batch_y = gen.__next__()\n",
    "        batch_lr = beginning_lr \n",
    "        _,batch_loss = session.run([optimizer,nce_loss],feed_dict={\n",
    "            x:batch_x,\n",
    "            y:batch_y,\n",
    "            learning_rate:batch_lr,\n",
    "        })\n",
    "        pb.info = \"EPOCH {} batch {} lr {} loss {}\".format(one_epoch,one_batch,batch_lr,batch_loss)\n",
    "        pb.complete(batch_size)\n",
    "        losses.append(batch_loss)\n",
    "    print()"
   ]
  },
  {
   "cell_type": "code",
   "execution_count": 32,
   "metadata": {},
   "outputs": [
    {
     "data": {
      "text/plain": [
       "((256, 2), (256,))"
      ]
     },
     "execution_count": 32,
     "metadata": {},
     "output_type": "execute_result"
    }
   ],
   "source": [
    "batch_x.shape,batch_y.shape"
   ]
  },
  {
   "cell_type": "code",
   "execution_count": 33,
   "metadata": {
    "collapsed": true
   },
   "outputs": [
    {
     "name": "stdout",
     "output_type": "stream",
     "text": [
      "WARNING:tensorflow:From <ipython-input-33-c5c4f54b5519>:1: calling reduce_sum (from tensorflow.python.ops.math_ops) with keep_dims is deprecated and will be removed in a future version.\n",
      "Instructions for updating:\n",
      "keep_dims is deprecated, use keepdims instead\n"
     ]
    }
   ],
   "source": [
    "norm = tf.sqrt(tf.reduce_sum(tf.square(embeddings), 1, keep_dims=True))\n",
    "normalized_embeddings = embeddings / norm"
   ]
  },
  {
   "cell_type": "code",
   "execution_count": 57,
   "metadata": {
    "collapsed": true
   },
   "outputs": [
    {
     "data": {
      "text/plain": [
       "['海洋', '海湾', '森林', '土壤', '绘画', '沙漠', '物理学', '文学']"
      ]
     },
     "execution_count": 57,
     "metadata": {},
     "output_type": "execute_result"
    }
   ],
   "source": [
    "word = '海洋'\n",
    "\n",
    "inputx = ch2ind[word]\n",
    "\n",
    "embedding_val = session.run(sample_embedding,feed_dict={sample_x:[inputx]})\n",
    "\n",
    "dis_words = np.matmul(embedding_val,np.transpose(session.run(normalized_embeddings)))\n",
    "\n",
    "#dis_words\n",
    "\n",
    "[ind2ch[i] for i in np.argsort(dis_words[0])[::-1][:8]]"
   ]
  },
  {
   "cell_type": "code",
   "execution_count": 42,
   "metadata": {
    "collapsed": true
   },
   "outputs": [
    {
     "data": {
      "text/plain": [
       "<matplotlib.axes._subplots.AxesSubplot at 0x7fcf3c54e518>"
      ]
     },
     "execution_count": 42,
     "metadata": {},
     "output_type": "execute_result"
    },
    {
     "data": {
      "image/png": "[encoded data removed]",
      "text/plain": [
       "<Figure size 432x288 with 1 Axes>"
      ]
     },
     "metadata": {
      "needs_background": "light"
     },
     "output_type": "display_data"
    }
   ],
   "source": [
    "import pandas as pd\n",
    "%matplotlib inline\n",
    "pd.DataFrame(losses[:100000]).plot()"
   ]
  },
  {
   "cell_type": "code",
   "execution_count": 43,
   "metadata": {
    "collapsed": true
   },
   "outputs": [],
   "source": [
    "saver = tf.train.Saver()"
   ]
  },
  {
   "cell_type": "code",
   "execution_count": 44,
   "metadata": {},
   "outputs": [
    {
     "data": {
      "text/plain": [
       "'models/word2vec_model'"
      ]
     },
     "execution_count": 44,
     "metadata": {},
     "output_type": "execute_result"
    }
   ],
   "source": [
    "saver.save(session,'models/word2vec_model')"
   ]
  },
  {
   "cell_type": "code",
   "execution_count": 45,
   "metadata": {},
   "outputs": [
    {
     "name": "stdout",
     "output_type": "stream",
     "text": [
      "-rw-r--r-- 1 root root 16083216 Sep 15 09:32 models/word2vec_model.data-00000-of-00001\n"
     ]
    }
   ],
   "source": [
    "! ls -l 'models/word2vec_model.data-00000-of-00001'"
   ]
  },
  {
   "cell_type": "markdown",
   "metadata": {},
   "source": [
    "# 可视化"
   ]
  },
  {
   "cell_type": "code",
   "execution_count": 46,
   "metadata": {
    "collapsed": true
   },
   "outputs": [],
   "source": [
    "words_embedding = session.run(embeddings)"
   ]
  },
  {
   "cell_type": "code",
   "execution_count": 47,
   "metadata": {
    "collapsed": true
   },
   "outputs": [],
   "source": [
    "from sklearn.decomposition import PCA"
   ]
  },
  {
   "cell_type": "code",
   "execution_count": 48,
   "metadata": {
    "collapsed": true
   },
   "outputs": [],
   "source": [
    "pca = PCA(n_components=2, svd_solver='full')"
   ]
  },
  {
   "cell_type": "code",
   "execution_count": 49,
   "metadata": {
    "collapsed": true
   },
   "outputs": [],
   "source": [
    "words_embedding_pca = pca.fit_transform(words_embedding)"
   ]
  },
  {
   "cell_type": "code",
   "execution_count": 52,
   "metadata": {
    "collapsed": true
   },
   "outputs": [],
   "source": [
    "#import pypinyin\n",
    "#zhfont1 = matplotlib.font_manager.FontProperties(fname='/usr/share/fonts/cjkunifonts-ukai/ukai.ttc')\n",
    "from pylab import *\n",
    "mpl.rcParams['font.sans-serif'] = ['SimHei']\n",
    " \n",
    "decisionNode = dict(boxstyle = \"sawtooth\", fc = \"0.8\")\n",
    "leafNode = dict(boxstyle = \"round4\", fc = \"0.8\")\n",
    "arrow_args = dict(arrowstyle = \"<-\")"
   ]
  },
  {
   "cell_type": "code",
   "execution_count": null,
   "metadata": {},
   "outputs": [],
   "source": [
    "plt.figure(figsize=(25,25))\n",
    "#'_'.join(pypinyin.lazy_pinyin(ind2ch[i]))\n",
    "for i in range(400):\n",
    "    coord = words_embedding_pca\n",
    "    color = 'red'\n",
    "    plt.text(coord[i, 0], coord[i, 1],ind2ch[i], bbox=dict(facecolor=color, alpha=0.1),\n",
    "             fontsize=12)  # fontproperties = ChineseFont1\n",
    "plt.xlim((np.min(coord[:, 0]), np.max(coord[:, 0])))\n",
    "plt.ylim((np.min(coord[:, 1]), np.max(coord[:, 1])))\n",
    "plt.show()"
   ]
  },
  {
   "cell_type": "code",
   "execution_count": null,
   "metadata": {
    "collapsed": true
   },
   "outputs": [],
   "source": []
  }
 ],
 "metadata": {
  "kernelspec": {
   "display_name": "Python 3",
   "language": "python",
   "name": "python3"
  },
  "language_info": {
   "codemirror_mode": {
    "name": "ipython",
    "version": 3
   },
   "file_extension": ".py",
   "mimetype": "text/x-python",
   "name": "python",
   "nbconvert_exporter": "python",
   "pygments_lexer": "ipython3",
   "version": "3.6.8"
  }
 },
 "nbformat": 4,
 "nbformat_minor": 2
}
